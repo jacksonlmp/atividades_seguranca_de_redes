{
 "cells": [
  {
   "cell_type": "markdown",
   "metadata": {},
   "source": [
    "### 1. Responda (de forma objetiva) as questões a seguir:**\n",
    "### (a) Quais são os elementos essenciais de uma cifra simétrica?**"
   ]
  },
  {
   "cell_type": "markdown",
   "metadata": {},
   "source": [
    "Resposta"
   ]
  }
 ],
 "metadata": {
  "language_info": {
   "name": "python"
  }
 },
 "nbformat": 4,
 "nbformat_minor": 2
}
