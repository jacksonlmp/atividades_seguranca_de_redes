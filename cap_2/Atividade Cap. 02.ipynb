{
 "cells": [
  {
   "cell_type": "markdown",
   "metadata": {},
   "source": [
    "### 1. Responda (de forma objetiva) as questões a seguir:**\n",
    "### (a) Quais são os elementos essenciais de uma cifra simétrica?**"
   ]
  },
  {
   "cell_type": "markdown",
   "metadata": {},
   "source": [
    "Chave e algoritmo de cifragem/decifragem."
   ]
  },
  {
   "cell_type": "markdown",
   "metadata": {},
   "source": [
    "### (b) Quais são as duas funções básicas usadas nos algoritmos de encriptação? "
   ]
  },
  {
   "cell_type": "markdown",
   "metadata": {},
   "source": [
    "Cifragem e decifragem."
   ]
  },
  {
   "cell_type": "markdown",
   "metadata": {},
   "source": [
    "### (c) Qual é a diferença entre uma cifra de bloco e uma cifra de fluxo? "
   ]
  },
  {
   "cell_type": "markdown",
   "metadata": {},
   "source": [
    "A forma como operam, cifras de bloco operam sobre blocos fixos de dados, geralmente de tamanho fixo, e cifra cada bloco separadamente. Como AES e DES.\n",
    "\n",
    "Cifras de fluxo operam sobre os dados de forma contínua, normalmente um bit ou byte por vez, e gera um fluxo contínuo de dados cifrados. Como RC4 e  A5/1.\n"
   ]
  },
  {
   "cell_type": "markdown",
   "metadata": {},
   "source": [
    "### (d) Quais são as duas técnicas gerais para atacar uma cifra?"
   ]
  },
  {
   "cell_type": "markdown",
   "metadata": {},
   "source": [
    "Força bruta e criptoanalíticos."
   ]
  },
  {
   "cell_type": "markdown",
   "metadata": {},
   "source": [
    "### (e) Quais são os dois problemas com o one-time pad? "
   ]
  },
  {
   "cell_type": "markdown",
   "metadata": {},
   "source": [
    "Necessidade de chaves longas e aleatórias, proibição da reutilização da chave."
   ]
  },
  {
   "cell_type": "markdown",
   "metadata": {},
   "source": [
    "### (f) O que é uma cifra de transposição? "
   ]
  },
  {
   "cell_type": "markdown",
   "metadata": {},
   "source": [
    "Reorganiza símbolos na mensagem sem substituí-los."
   ]
  },
  {
   "cell_type": "markdown",
   "metadata": {},
   "source": [
    "### (g) O que é esteganografia? "
   ]
  },
  {
   "cell_type": "markdown",
   "metadata": {},
   "source": [
    "Ocultar informações secretas dentro de outras informações para tornar a existência da mensagem secreta imperceptível."
   ]
  }
 ],
 "metadata": {
  "language_info": {
   "name": "python"
  }
 },
 "nbformat": 4,
 "nbformat_minor": 2
}
