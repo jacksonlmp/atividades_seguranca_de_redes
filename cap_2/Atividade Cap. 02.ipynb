{
 "cells": [
  {
   "cell_type": "markdown",
   "metadata": {},
   "source": [
    "### 1. Responda (de forma objetiva) as questões a seguir:\n",
    "### (a) Quais são os elementos essenciais de uma cifra simétrica?"
   ]
  },
  {
   "cell_type": "markdown",
   "metadata": {},
   "source": [
    "Texto claro, algoritmo de criptografia, chave secreta, texto cifrado, algoritmo de descriptografia."
   ]
  },
  {
   "cell_type": "markdown",
   "metadata": {},
   "source": [
    "### (b) Quais são as duas funções básicas usadas nos algoritmos de encriptação? "
   ]
  },
  {
   "cell_type": "markdown",
   "metadata": {},
   "source": [
    "Cifragem e decifragem."
   ]
  },
  {
   "cell_type": "markdown",
   "metadata": {},
   "source": [
    "### (c) Qual é a diferença entre uma cifra de bloco e uma cifra de fluxo? "
   ]
  },
  {
   "cell_type": "markdown",
   "metadata": {},
   "source": [
    "Uma cifra em fluxo é uma cifra que processa os elementos da entrada (bytes), produzindo a saída de um elemento de cada vez, enquanto prossegue.\n",
    "Uma cifra de bloco processa a entrada de um bloco de elementos (bytes) de cada vez, medido por sua quantidade de bits, produzindo um bloco de saída para cada bloco de entrada."
   ]
  },
  {
   "cell_type": "markdown",
   "metadata": {},
   "source": [
    "### (d) Quais são as duas técnicas gerais para atacar uma cifra?"
   ]
  },
  {
   "cell_type": "markdown",
   "metadata": {},
   "source": [
    "Criptoanálise e ataque por força bruta sobre a chave."
   ]
  },
  {
   "cell_type": "markdown",
   "metadata": {},
   "source": [
    "### (e) Quais são os dois problemas com o one-time pad? "
   ]
  },
  {
   "cell_type": "markdown",
   "metadata": {},
   "source": [
    "Tamanho da chave: necessidade de chaves longas e aleatórias;"
   ]
  },
  {
   "cell_type": "markdown",
   "metadata": {},
   "source": [
    "Uso único: proibição da reutilização da chave."
   ]
  },
  {
   "cell_type": "markdown",
   "metadata": {},
   "source": [
    "### (f) O que é uma cifra de transposição? "
   ]
  },
  {
   "cell_type": "markdown",
   "metadata": {},
   "source": [
    "Reorganiza símbolos na mensagem sem substituí-los."
   ]
  },
  {
   "cell_type": "markdown",
   "metadata": {},
   "source": [
    "### (g) O que é esteganografia? "
   ]
  },
  {
   "cell_type": "markdown",
   "metadata": {},
   "source": [
    "Oculta informações secretas dentro de outras informações para tornar a existência da mensagem secreta imperceptível."
   ]
  },
  {
   "cell_type": "markdown",
   "metadata": {},
   "source": []
  },
  {
   "cell_type": "markdown",
   "metadata": {},
   "source": [
    "### 2. Uma generalização da cifra de César, conhecida como cifra de César afim, tem a seguinte forma: a cada letra de texto claro p, substitua-a pela letra de texto cifrado C :\n",
    "### $$C = E([a, b], p) = (ap + b) mod 26$$\n",
    "### um requisito básico de qualquer algoritmo de encriptação é que ele seja um para um. Ou seja, se p ̸= q, então E(k, p) ̸= E(k, q). Caso contrário, a decriptação é impossível, pois mais de um caractere de texto claro é mapeado no mesmo caractere de texto cifrado. A cifra de César afim não é um-para-um para todos os valores de a. Por exemplo, para a = 2 e b = 3, então\n",
    "### $$E([a, b], 0) = E([a, b], 13) = 3.$$\n",
    "### (a) existem limitações sobre o valor de b? explique por que sim ou por que não."
   ]
  },
  {
   "cell_type": "markdown",
   "metadata": {},
   "source": [
    "Não há limites específicos sobre o valor de \"b\" na cifra de Cesar. Qualquer valor de \"b\" é permitido desde que a combinação de \"a\" e \"b\" não vire um mapeamento que repita as letras cifradas para claras diferentes."
   ]
  },
  {
   "cell_type": "markdown",
   "metadata": {},
   "source": [
    "### (b) determine quais valores de a não são permitidos."
   ]
  },
  {
   "cell_type": "markdown",
   "metadata": {},
   "source": [
    "Não são permitidos o que não possuem inverso multiplicativo módulo 26. Ou seja, \n",
    "$$ a^-1 $$"
   ]
  },
  {
   "cell_type": "markdown",
   "metadata": {},
   "source": [
    "### (c) ofereça uma afirmação geral sobre quais valores de a são e não são permitidos. Justifique-a."
   ]
  },
  {
   "cell_type": "markdown",
   "metadata": {},
   "source": [
    "Os valores de \"a\" que são permitidos são valores coprimos com 26. Precisam garantir que a cifra seja um-para-um e que seja possível reverter a criptografia usando o inverso multiplicativo módulo 26."
   ]
  },
  {
   "cell_type": "markdown",
   "metadata": {},
   "source": [
    "Ou seja, qualquer valor de \"a\" que seja coprimo com 26 é permitdo e os que não são coprimos não são permitos."
   ]
  }
 ],
 "metadata": {
  "language_info": {
   "name": "python"
  }
 },
 "nbformat": 4,
 "nbformat_minor": 2
}
