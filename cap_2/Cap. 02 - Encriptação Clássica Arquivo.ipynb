{
 "cells": [
  {
   "cell_type": "markdown",
   "metadata": {
    "collapsed": false
   },
   "source": [
    "### B.2 Capítulo 2: Encriptação Clássica"
   ]
  },
  {
   "cell_type": "markdown",
   "metadata": {
    "collapsed": false
   },
   "source": [
    "As funções a seguir são úteis para exemplos clássicos de cifra e exercícios:"
   ]
  },
  {
   "cell_type": "code",
   "execution_count": 4,
   "metadata": {
    "collapsed": false
   },
   "outputs": [],
   "source": [
    "en_alphabet = \"abcdefghijklmnopqrstuvwxyz\""
   ]
  },
  {
   "cell_type": "markdown",
   "metadata": {
    "collapsed": false
   },
   "source": [
    "Esta função retorna true se e somente se o caractere c for um caractere alfabético"
   ]
  },
  {
   "cell_type": "code",
   "execution_count": 5,
   "metadata": {
    "collapsed": false
   },
   "outputs": [],
   "source": [
    "def is_alphabetic_char(c):\n",
    "    return (c.lower() in en_alphabet)"
   ]
  },
  {
   "cell_type": "markdown",
   "metadata": {
    "collapsed": false
   },
   "source": [
    "Esta função converte um único caractere em seu valor numérico"
   ]
  },
  {
   "cell_type": "code",
   "execution_count": 6,
   "metadata": {
    "collapsed": false
   },
   "outputs": [],
   "source": [
    "def char_to_num(c):\n",
    "    return en_alphabet.index(c.lower())"
   ]
  },
  {
   "cell_type": "markdown",
   "metadata": {
    "collapsed": false
   },
   "source": [
    "Esta função retorna o caractere correspondente a x mod 26 no alfabeto inglês"
   ]
  },
  {
   "cell_type": "code",
   "execution_count": 7,
   "metadata": {
    "collapsed": false
   },
   "outputs": [],
   "source": [
    "def num_to_char(x):\n",
    "    return en_alphabet[x % 26]"
   ]
  },
  {
   "cell_type": "markdown",
   "metadata": {
    "collapsed": false
   },
   "source": [
    "Exemplo 1: implemente funções de encriptação/decriptação em Sage que apanhem uma chave (como um inteiro em 0, 1, 2, ..., 25) e uma string. A função só deverá operar sobre os caracteres ‘a’, ‘b’, …, ‘z’ (tanto maiúsculos quanto minúsculos) e deverá deixar qualquer outro caractere inalterado."
   ]
  },
  {
   "cell_type": "code",
   "execution_count": 8,
   "metadata": {
    "collapsed": false
   },
   "outputs": [],
   "source": [
    "def CaesarEncrypt(k, plaintext):\n",
    "    ciphertext = \"\"\n",
    "    for j in range(len(plaintext)):\n",
    "        p = plaintext[j]\n",
    "        if is_alphabetic_char(p):\n",
    "            x = (k + char_to_num(p)) % 26\n",
    "            c = num_to_char(x)\n",
    "        else:\n",
    "            c = p\n",
    "        ciphertext += c\n",
    "    return ciphertext"
   ]
  },
  {
   "cell_type": "code",
   "execution_count": 9,
   "metadata": {
    "collapsed": false
   },
   "outputs": [],
   "source": [
    "def CaesarDecrypt(k, ciphertext):\n",
    "    plaintext = \"\"\n",
    "    for j in range(len(ciphertext)):\n",
    "        c = ciphertext[j]\n",
    "        if is_alphabetic_char(c):\n",
    "            x = (char_to_num(c) - k) % 26\n",
    "            p = num_to_char(x)\n",
    "        else:\n",
    "            p = c\n",
    "        plaintext += p\n",
    "    return plaintext"
   ]
  },
  {
   "cell_type": "markdown",
   "metadata": {
    "collapsed": false
   },
   "source": [
    "Exemplo 2: implemente uma função que realiza um ataque de força bruta sobre um texto cifrado; ela deverá imprimir uma lista das chaves e descrições associadas. Ela também deverá tomar um parâmetro opcional que usa uma substring e só imprime textos claros em potencial, que contenham essa decriptação."
   ]
  },
  {
   "cell_type": "markdown",
   "metadata": {
    "collapsed": false
   },
   "source": [
    "Solução"
   ]
  },
  {
   "cell_type": "code",
   "execution_count": 10,
   "metadata": {
    "collapsed": false
   },
   "outputs": [],
   "source": [
    "def BruteForceAttack(ciphertext, keyword=None):\n",
    "    for k in range(26):\n",
    "        plaintext = CaesarDecrypt(k, ciphertext)\n",
    "        if (None==keyword) or (keyword in plaintext):\n",
    "            print(\"key\", k, \"decryption\", plaintext)\n",
    "    return"
   ]
  },
  {
   "cell_type": "markdown",
   "metadata": {
    "collapsed": false
   },
   "source": [
    "Exemplo 3: mostre a saída da sua função de encriptação (Exemplo 1) nos seguintes pares (chave, texto claro):\n",
    "\n",
    "- k = 6 texto claro = \"Get me a vanilla ice cream, make it a double.\"\n",
    "- k = 15 texto claro = \"I don’t much care for Leonard Cohen.\"\n",
    "- k = 16 texto claro = \"I like root beer floats.\""
   ]
  },
  {
   "cell_type": "code",
   "execution_count": 11,
   "metadata": {
    "collapsed": false
   },
   "outputs": [
    {
     "data": {
      "text/plain": [
       "'mkz sk g bgtorrg oik ixkgs, sgqk oz g juahrk.'"
      ]
     },
     "execution_count": 11,
     "metadata": {},
     "output_type": "execute_result"
    }
   ],
   "source": [
    "k = 6; plaintext = 'Get me a vanilla ice cream, make it a double.'\n",
    "CaesarEncrypt(k, plaintext)"
   ]
  },
  {
   "cell_type": "code",
   "execution_count": 12,
   "metadata": {
    "collapsed": false
   },
   "outputs": [
    {
     "data": {
      "text/plain": [
       "\"x sdc'i bjrw rpgt udg atdcpgs rdwtc.\""
      ]
     },
     "execution_count": 12,
     "metadata": {},
     "output_type": "execute_result"
    }
   ],
   "source": [
    "k = 15; plaintext = \"I don't much care for Leonard Cohen.\"\n",
    "CaesarEncrypt(k, plaintext)"
   ]
  },
  {
   "cell_type": "code",
   "execution_count": 15,
   "metadata": {
    "collapsed": false
   },
   "outputs": [
    {
     "data": {
      "text/plain": [
       "'y byau heej ruuh vbeqji.'"
      ]
     },
     "execution_count": 15,
     "metadata": {},
     "output_type": "execute_result"
    }
   ],
   "source": [
    "k = 16; plaintext = \"I like root beer floats.\"\n",
    "CaesarEncrypt(k, plaintext)"
   ]
  },
  {
   "cell_type": "markdown",
   "metadata": {
    "collapsed": false
   },
   "source": [
    "Exemplo 4: mostre a saída da sua função de decriptação (Exemplo 1) nos seguintes pares (chave, texto cifrado):\n",
    "\n",
    "- k = 12 texto cifrado = 'nduzs ftq buzq oazqe.'\n",
    "- k = 3 texto cifrado = \"fdhvdu qhhgv wr orvh zhljkw.\"\n",
    "- k = 20 texto cifrado = \"ufgihxm uly numnys.\""
   ]
  },
  {
   "cell_type": "code",
   "execution_count": 17,
   "metadata": {
    "collapsed": false
   },
   "outputs": [
    {
     "data": {
      "text/plain": [
       "'bring the pine cones.'"
      ]
     },
     "execution_count": 17,
     "metadata": {},
     "output_type": "execute_result"
    }
   ],
   "source": [
    "k = 12; ciphertext = 'nduzs ftq buzq oazqe.'\n",
    "CaesarDecrypt(k, ciphertext)"
   ]
  },
  {
   "cell_type": "code",
   "execution_count": 18,
   "metadata": {
    "collapsed": false
   },
   "outputs": [
    {
     "data": {
      "text/plain": [
       "'caesar needs to lose weight.'"
      ]
     },
     "execution_count": 18,
     "metadata": {},
     "output_type": "execute_result"
    }
   ],
   "source": [
    "k = 3; ciphertext = \"fdhvdu qhhgv wr orvh zhljkw.\"\n",
    "CaesarDecrypt(k, ciphertext)"
   ]
  },
  {
   "cell_type": "code",
   "execution_count": 13,
   "metadata": {
    "collapsed": false
   },
   "outputs": [
    {
     "data": {
      "text/plain": [
       "'almonds are tastey.'"
      ]
     },
     "execution_count": 13,
     "metadata": {},
     "output_type": "execute_result"
    }
   ],
   "source": [
    "k = 20; ciphertext = \"ufgihxm uly numnys.\"\n",
    "CaesarDecrypt(k, ciphertext)"
   ]
  },
  {
   "cell_type": "markdown",
   "metadata": {
    "collapsed": false
   },
   "source": [
    "Exemplo 5: mostre a saída da sua função de ataque (Exemplo 4) nos seguintes textos cifrados; se uma palavra--chave opcional for especificada, passe-a para a sua função de ataque:\n",
    "\n",
    "- texto cifrado = 'gryy guru gob tab gb nzoebfr puncry.' palavra-chave = 'chapel'\n",
    "- texto cifrado = 'wziv kyv jyfk nyve kyv tpdsrcj tirjy.' palavra-chave = 'cymbal'\n",
    "- texto cifrado = 'baeeq klwosjl osk s esf ozg cfwo lgg emuz.' sem palavra-chave"
   ]
  },
  {
   "cell_type": "code",
   "execution_count": 21,
   "metadata": {
    "collapsed": false
   },
   "outputs": [
    {
     "name": "stdout",
     "output_type": "stream",
     "text": [
      "key 13 decryption tell them to go to ambrose chapel.\n"
     ]
    }
   ],
   "source": [
    "ciphertext = 'gryy gurz gb tb gb nzoebfr puncry.'\n",
    "BruteForceAttack(ciphertext, 'chapel')"
   ]
  },
  {
   "cell_type": "code",
   "execution_count": 15,
   "metadata": {
    "collapsed": false
   },
   "outputs": [
    {
     "name": "stdout",
     "output_type": "stream",
     "text": [
      "key 17 decryption fire the shot when the cymbals crash.\n"
     ]
    }
   ],
   "source": [
    "ciphertext = 'wziv kyv jyfk nyve kyv tpdsrcj tirjy.'\n",
    "BruteForceAttack(ciphertext, 'cymbal')"
   ]
  },
  {
   "cell_type": "code",
   "execution_count": 22,
   "metadata": {
    "collapsed": false
   },
   "outputs": [
    {
     "name": "stdout",
     "output_type": "stream",
     "text": [
      "key 0 decryption baeeq klwosjl osk s esf ozg cfwo lgg emuz.\n",
      "key 1 decryption azddp jkvnrik nrj r dre nyf bevn kff dlty.\n",
      "key 2 decryption zycco ijumqhj mqi q cqd mxe adum jee cksx.\n",
      "key 3 decryption yxbbn hitlpgi lph p bpc lwd zctl idd bjrw.\n",
      "key 4 decryption xwaam ghskofh kog o aob kvc ybsk hcc aiqv.\n",
      "key 5 decryption wvzzl fgrjneg jnf n zna jub xarj gbb zhpu.\n",
      "key 6 decryption vuyyk efqimdf ime m ymz ita wzqi faa ygot.\n",
      "key 7 decryption utxxj dephlce hld l xly hsz vyph ezz xfns.\n",
      "key 8 decryption tswwi cdogkbd gkc k wkx gry uxog dyy wemr.\n",
      "key 9 decryption srvvh bcnfjac fjb j vjw fqx twnf cxx vdlq.\n",
      "key 10 decryption rquug abmeizb eia i uiv epw svme bww uckp.\n",
      "key 11 decryption qpttf zaldhya dhz h thu dov ruld avv tbjo.\n",
      "key 12 decryption posse yzkcgxz cgy g sgt cnu qtkc zuu sain.\n",
      "key 13 decryption onrrd xyjbfwy bfx f rfs bmt psjb ytt rzhm.\n",
      "key 14 decryption nmqqc wxiaevx aew e qer als oria xss qygl.\n",
      "key 15 decryption mlppb vwhzduw zdv d pdq zkr nqhz wrr pxfk.\n",
      "key 16 decryption lkooa uvgyctv ycu c ocp yjq mpgy vqq owej.\n",
      "key 17 decryption kjnnz tufxbsu xbt b nbo xip lofx upp nvdi.\n",
      "key 18 decryption jimmy stewart was a man who knew too much.\n",
      "key 19 decryption ihllx rsdvzqs vzr z lzm vgn jmdv snn ltbg.\n",
      "key 20 decryption hgkkw qrcuypr uyq y kyl ufm ilcu rmm ksaf.\n",
      "key 21 decryption gfjjv pqbtxoq txp x jxk tel hkbt qll jrze.\n",
      "key 22 decryption feiiu opaswnp swo w iwj sdk gjas pkk iqyd.\n",
      "key 23 decryption edhht nozrvmo rvn v hvi rcj fizr ojj hpxc.\n",
      "key 24 decryption dcggs mnyquln qum u guh qbi ehyq nii gowb.\n",
      "key 25 decryption cbffr lmxptkm ptl t ftg pah dgxp mhh fnva.\n"
     ]
    }
   ],
   "source": [
    "ciphertext = 'baeeq klwosjl osk s esf ozg cfwo lgg emuz.'\n",
    "BruteForceAttack(ciphertext)"
   ]
  },
  {
   "cell_type": "code",
   "execution_count": null,
   "metadata": {
    "collapsed": false
   },
   "outputs": [],
   "source": []
  }
 ],
 "metadata": {
  "kernelspec": {
   "display_name": "Python 3",
   "language": "python",
   "name": "python3"
  },
  "language_info": {
   "codemirror_mode": {
    "name": "ipython",
    "version": 3
   },
   "file_extension": ".py",
   "mimetype": "text/x-python",
   "name": "python",
   "nbconvert_exporter": "python",
   "pygments_lexer": "ipython3",
   "version": "3.11.4"
  }
 },
 "nbformat": 4,
 "nbformat_minor": 4
}
