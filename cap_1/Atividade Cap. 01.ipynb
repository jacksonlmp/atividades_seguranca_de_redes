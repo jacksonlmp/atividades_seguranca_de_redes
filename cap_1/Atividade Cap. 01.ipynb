{
 "cells": [
  {
   "cell_type": "markdown",
   "metadata": {},
   "source": [
    "### 1. O que é a arquitetura de segurança OSI?"
   ]
  },
  {
   "cell_type": "markdown",
   "metadata": {},
   "source": [
    "Útil para organizar a tarefa de fornecer segurança. Focaliza ataques, mecanismos e serviços de segurança. Podem ser definidos da seguinte forma:\n",
    "\n",
    "- **Ataque à segurança:** Qualquer ação que comprometa a segurança da informação pertencida a uma organização.\n",
    "- **Mecanismo de segurança:** Processo (ou um dispositivo incorporando tal processo) que é projetado para detectar, impedir ou recuperar-se de um ataque à segurança.\n",
    "- **Serviço de segurança:** Serviço de processamento ou comunicação que aumenta a segurança dos sistemas de processamento de dados e das transferências de informação de uma organização. Os serviços servem para frustrar ataques à segurança, e utilizam um ou mais mecanismos para isso."
   ]
  },
  {
   "cell_type": "markdown",
   "metadata": {},
   "source": []
  },
  {
   "cell_type": "markdown",
   "metadata": {},
   "source": [
    "### 2. Qual é a diferença entre ameaças à segurança passivas e ativas?"
   ]
  },
  {
   "cell_type": "markdown",
   "metadata": {},
   "source": [
    "**Ataques passivos** são muito difíceis de se detectar, pois não envolvem qualquer alteração dos dados. Em geral, o tráfego de mensagens é enviado e recebido em um padrão aparentemente normal, e nem o emissor nem o receptor estão cientes de que um terceiro leu as mensagens ou observou o padrão de tráfego.\n",
    "\n",
    "Já os **ataques ativos** apresentam as características opostas**.**  Embora os ataques passivos sejam difíceis de detectar, existem medidas para impedir seu sucesso. Por outro lado, é muito difícil impedir\n",
    "de forma absoluta os ataques ativos, em virtude da grande variedade de potenciais vulnerabilidades físicas, de software e de rede. Em vez disso, o objetivo é detectar ataques ativos e recuperar-se de qualquer rompimento ou atrasos causados por eles."
   ]
  }
 ],
 "metadata": {
  "language_info": {
   "name": "python"
  }
 },
 "nbformat": 4,
 "nbformat_minor": 2
}
