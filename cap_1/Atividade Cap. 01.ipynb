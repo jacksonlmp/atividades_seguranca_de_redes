{
 "cells": [
  {
   "cell_type": "markdown",
   "metadata": {},
   "source": [
    "### 1. O que é a arquitetura de segurança OSI?"
   ]
  },
  {
   "cell_type": "markdown",
   "metadata": {},
   "source": [
    "Útil para organizar a tarefa de fornecer segurança. Focaliza ataques, mecanismos e serviços de segurança. Podem ser definidos da seguinte forma:\n",
    "\n",
    "- **Ataque à segurança:** Qualquer ação que comprometa a segurança da informação pertencida a uma organização.\n",
    "- **Mecanismo de segurança:** Processo (ou um dispositivo incorporando tal processo) que é projetado para detectar, impedir ou recuperar-se de um ataque à segurança.\n",
    "- **Serviço de segurança:** Serviço de processamento ou comunicação que aumenta a segurança dos sistemas de processamento de dados e das transferências de informação de uma organização. Os serviços servem para frustrar ataques à segurança, e utilizam um ou mais mecanismos para isso."
   ]
  }
 ],
 "metadata": {
  "language_info": {
   "name": "python"
  }
 },
 "nbformat": 4,
 "nbformat_minor": 2
}
